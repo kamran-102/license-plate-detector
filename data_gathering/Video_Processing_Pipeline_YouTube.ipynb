{
 "cells": [
  {
   "cell_type": "markdown",
   "id": "f7abcd7d-48c7-41b8-a43e-592e9400c92d",
   "metadata": {},
   "source": [
    "### Video Processing Pipeline YouTube\n",
    "\n",
    "This pipeline downloads videos from YouTube, processes video frames to detect objects using a machine learning model, and saves the results. The pipeline is structured into modular classes for better readability, maintainability, and scalability.\n",
    "\n",
    "#### Summary\n",
    "\n",
    "1.  **Initialization**: Set up the Roboflow model.\n",
    "2.  **Video Downloading**: Download videos from YouTube based on a search query.\n",
    "3.  **Frame Processing**: Process each frame of the downloaded videos for object detection.\n",
    "4.  **Logging and Progress Tracking**: Use logging for tracking progress and errors, and `tqdm` for progress bars.\n",
    "\n",
    "#### Functionalities\n",
    "\n",
    "1.  **RoboflowModel Class**: Initializes the Roboflow model.\n",
    "2.  **VideoDownloader Class**: Downloads videos from YouTube based on a search query.\n",
    "3.  **FrameProcessor Class**: Processes video frames for object detection and saves the results.\n",
    "\n",
    "### Code Sections\n",
    "\n",
    "1.  **Setup Logging and Imports**\n",
    "2.  **Define the `RoboflowModel` Class**\n",
    "3.  **Define the `VideoDownloader` Class**\n",
    "4.  **Define the `FrameProcessor` Class**\n",
    "5.  **Main Function and Execution**\n",
    "\n",
    "----------\n",
    "\n",
    "#### 1. Setup Logging and Imports\n",
    "\n",
    "First, we need to import the necessary libraries and set up logging for tracking purposes."
   ]
  },
  {
   "cell_type": "code",
   "execution_count": 2,
   "id": "7785bc2f-2059-441f-8ac8-6ac8d7019af8",
   "metadata": {},
   "outputs": [],
   "source": [
    "import logging\n",
    "import os\n",
    "import cv2\n",
    "from roboflow import Roboflow\n",
    "import supervision as sv\n",
    "import youtube_dl\n",
    "from tqdm import tqdm\n",
    "import yt_dlp as youtube_dl\n",
    "\n",
    "logging.basicConfig(level=logging.INFO, format='%(asctime)s - %(levelname)s - %(message)s')"
   ]
  },
  {
   "cell_type": "markdown",
   "id": "45fb4939-a5b7-4135-82fd-a4bcc555ed2c",
   "metadata": {},
   "source": [
    "\n",
    "#### 2. Define the `RoboflowModel` Class\n",
    "\n",
    "This class initializes the Roboflow model using an API key."
   ]
  },
  {
   "cell_type": "code",
   "execution_count": 4,
   "id": "037b734f-24ee-4543-8aef-1f1dc83d408d",
   "metadata": {},
   "outputs": [],
   "source": [
    "class RoboflowModel:\n",
    "    def __init__(self, api_key):\n",
    "        self.api_key = api_key\n",
    "        self.model = None\n",
    "\n",
    "    def initialize_model(self):\n",
    "        logging.info(\"Initializing Roboflow...\")\n",
    "        rf = Roboflow(api_key=self.api_key)\n",
    "\n",
    "        logging.info(\"Loading workspace...\")\n",
    "        workspace = rf.workspace()\n",
    "\n",
    "        logging.info(\"Loading project...\")\n",
    "        project = workspace.project(\"license-plate-nmu02\")\n",
    "\n",
    "        logging.info(\"Loading model...\")\n",
    "        self.model = project.version(1).model\n",
    "\n",
    "        logging.info(\"Model loaded successfully\")\n",
    "        return self.model"
   ]
  },
  {
   "cell_type": "markdown",
   "id": "250be5a1-f680-4a8d-bea4-695ea9ff39c9",
   "metadata": {},
   "source": [
    "\n",
    "#### 3. Define the `VideoDownloader` Class\n",
    "\n",
    "This class handles the downloading of videos from YouTube based on a search query."
   ]
  },
  {
   "cell_type": "code",
   "execution_count": 6,
   "id": "7b113909-625a-4fc5-b445-98e360629ddf",
   "metadata": {},
   "outputs": [],
   "source": [
    "class VideoDownloader:\n",
    "    def __init__(self, search_query, num_videos=5):\n",
    "        self.search_query = search_query\n",
    "        self.num_videos = num_videos\n",
    "        self.video_dir = 'downloaded_videos'\n",
    "        self.video_paths = []\n",
    "\n",
    "    def create_directory(self, path):\n",
    "        os.makedirs(path, exist_ok=True)\n",
    "\n",
    "    def search_videos(self):\n",
    "        logging.info(\"Searching for videos...\")\n",
    "        ydl_opts = {\n",
    "            'quiet': True,\n",
    "            'extract_flat': True,\n",
    "            'skip_download': True\n",
    "        }\n",
    "        with youtube_dl.YoutubeDL(ydl_opts) as ydl:\n",
    "            result = ydl.extract_info(f\"ytsearch{self.num_videos}:{self.search_query}\", download=False)\n",
    "            return result['entries']\n",
    "\n",
    "    def download_videos(self):\n",
    "        self.create_directory(self.video_dir)\n",
    "        logging.info(f\"Downloading {self.num_videos} videos to {self.video_dir}...\")\n",
    "\n",
    "        videos = self.search_videos()\n",
    "\n",
    "        for i, video in enumerate(tqdm(videos, desc=\"Downloading videos\")):\n",
    "            url = video['url']\n",
    "            ydl_opts = {\n",
    "                'format': 'mp4',\n",
    "                'outtmpl': os.path.join(self.video_dir, f\"video_{i + 1}.mp4\"),\n",
    "                'quiet': True\n",
    "            }\n",
    "            with youtube_dl.YoutubeDL(ydl_opts) as ydl:\n",
    "                info_dict = ydl.extract_info(url, download=True)\n",
    "                file_path = ydl.prepare_filename(info_dict)\n",
    "            self.video_paths.append(file_path)\n",
    "            logging.info(f\"Downloaded video {i + 1}: {video['title']}\")\n",
    "\n",
    "        return self.video_paths\n"
   ]
  },
  {
   "cell_type": "markdown",
   "id": "f2f5964c-778a-45a4-8e69-77a53f49ce12",
   "metadata": {},
   "source": [
    "\n",
    "#### 4. Define the `FrameProcessor` Class\n",
    "\n",
    "This class processes the frames of downloaded videos for object detection and saves the results."
   ]
  },
  {
   "cell_type": "code",
   "execution_count": 8,
   "id": "d820d1a7-d0bb-40b4-a606-385703557a94",
   "metadata": {},
   "outputs": [],
   "source": [
    "class FrameProcessor:\n",
    "    def __init__(self, model):\n",
    "        self.model = model\n",
    "\n",
    "    def create_directory(self, path):\n",
    "        os.makedirs(path, exist_ok=True)\n",
    "\n",
    "    def process_video_frames(self, video_path):\n",
    "        video_name = os.path.basename(video_path).split('.')[0]\n",
    "        output_image_directory = f'output/{video_name}/images'\n",
    "        output_label_directory = f'output/{video_name}/labels'\n",
    "\n",
    "        self.create_directory(output_image_directory)\n",
    "        self.create_directory(output_label_directory)\n",
    "\n",
    "        video_capture = cv2.VideoCapture(video_path)\n",
    "        frame_count = int(video_capture.get(cv2.CAP_PROP_FRAME_COUNT))\n",
    "\n",
    "        logging.info(f\"Processing frames of video {video_name}...\")\n",
    "\n",
    "        for frame_num in tqdm(range(frame_count), desc=f\"Processing {video_name}\"):\n",
    "            ret, frame = video_capture.read()\n",
    "            if not ret:\n",
    "                break\n",
    "\n",
    "            temp_image_path = os.path.join(output_image_directory, f\"temp_frame_{frame_num + 1}.jpg\")\n",
    "            cv2.imwrite(temp_image_path, frame)\n",
    "\n",
    "            try:\n",
    "                result = self.model.predict(temp_image_path, confidence=40, overlap=30).json()\n",
    "            except Exception as e:\n",
    "                logging.error(f\"Error in prediction for frame {frame_num + 1} of video {video_name}: {e}\")\n",
    "                continue\n",
    "\n",
    "            if result[\"predictions\"]:\n",
    "                final_image_path = os.path.join(output_image_directory, f\"frame_{frame_num + 1}.jpg\")\n",
    "                os.rename(temp_image_path, final_image_path)\n",
    "\n",
    "                label_file_path = os.path.join(output_label_directory, f\"frame_{frame_num + 1}.txt\")\n",
    "                self.write_labels(label_file_path, result[\"predictions\"], frame.shape)\n",
    "            else:\n",
    "                os.remove(temp_image_path)\n",
    "                logging.info(f\"No detections in frame {frame_num + 1} of video {video_name}. Image not saved.\")\n",
    "\n",
    "        video_capture.release()\n",
    "        cv2.destroyAllWindows()\n",
    "\n",
    "    def write_labels(self, label_file_path, predictions, frame_shape):\n",
    "        with open(label_file_path, 'w') as label_file:\n",
    "            for prediction in predictions:\n",
    "                class_id = prediction[\"class\"]\n",
    "                x_center = prediction[\"x\"] / frame_shape[1]\n",
    "                y_center = prediction[\"y\"] / frame_shape[0]\n",
    "                width = prediction[\"width\"] / frame_shape[1]\n",
    "                height = prediction[\"height\"] / frame_shape[0]\n",
    "                label_file.write(f\"{class_id} {x_center} {y_center} {width} {height}\\n\")"
   ]
  },
  {
   "cell_type": "markdown",
   "id": "443844a1-7adb-46eb-aae4-2d4cf5e24f6a",
   "metadata": {},
   "source": [
    "\n",
    "#### 5. Main Function and Execution\n",
    "\n",
    "The main function initializes the classes and executes the pipeline."
   ]
  },
  {
   "cell_type": "code",
   "execution_count": null,
   "id": "8814ccca-5361-4022-8dd2-738dcbc32df8",
   "metadata": {},
   "outputs": [
    {
     "name": "stderr",
     "output_type": "stream",
     "text": [
      "2024-07-09 03:03:48,946 - INFO - Initializing Roboflow...\n",
      "2024-07-09 03:03:49,452 - INFO - Loading workspace...\n"
     ]
    },
    {
     "name": "stdout",
     "output_type": "stream",
     "text": [
      "loading Roboflow workspace...\n"
     ]
    },
    {
     "name": "stderr",
     "output_type": "stream",
     "text": [
      "2024-07-09 03:03:49,918 - INFO - Loading project...\n"
     ]
    },
    {
     "name": "stdout",
     "output_type": "stream",
     "text": [
      "loading Roboflow project...\n"
     ]
    },
    {
     "name": "stderr",
     "output_type": "stream",
     "text": [
      "2024-07-09 03:03:50,298 - INFO - Loading model...\n",
      "2024-07-09 03:03:50,708 - INFO - Model loaded successfully\n"
     ]
    },
    {
     "name": "stdin",
     "output_type": "stream",
     "text": [
      "Enter a search string for YouTube videos:  traffic\n"
     ]
    },
    {
     "name": "stderr",
     "output_type": "stream",
     "text": [
      "2024-07-09 03:03:53,554 - INFO - Downloading 5 videos to downloaded_videos...\n",
      "2024-07-09 03:03:53,555 - INFO - Searching for videos...\n",
      "Downloading videos:   0%|          | 0/5 [00:00<?, ?it/s]"
     ]
    },
    {
     "name": "stdout",
     "output_type": "stream",
     "text": [
      "                                                           \r"
     ]
    },
    {
     "name": "stderr",
     "output_type": "stream",
     "text": [
      "2024-07-09 03:04:17,051 - INFO - Downloaded video 1: Traffic - ട്രാഫിക് Malayalam Full Movie || Sreenivasan, Kunchacko Boban || TVNXT Malayalam\n",
      "Downloading videos:  20%|██        | 1/5 [00:22<01:28, 22.20s/it]"
     ]
    },
    {
     "name": "stdout",
     "output_type": "stream",
     "text": [
      "                                                           \r"
     ]
    },
    {
     "name": "stderr",
     "output_type": "stream",
     "text": [
      "2024-07-09 03:04:22,488 - INFO - Downloaded video 2: Incredible traffic jam in Dhaka ,Bangladesh। Dhanmondi-27.\n",
      "Downloading videos:  40%|████      | 2/5 [00:27<00:37, 12.34s/it]"
     ]
    },
    {
     "name": "stdout",
     "output_type": "stream",
     "text": [
      "                                                           \r"
     ]
    },
    {
     "name": "stderr",
     "output_type": "stream",
     "text": [
      "2024-07-09 03:04:26,007 - INFO - Downloaded video 3: Kannerinjal | Traffic | Vipin Xavier | Hisham | Mejjo Josseph | S Ramesan Nair\n",
      "Downloading videos:  60%|██████    | 3/5 [00:31<00:16,  8.31s/it]"
     ]
    },
    {
     "name": "stdout",
     "output_type": "stream",
     "text": [
      "                                                           \r"
     ]
    },
    {
     "name": "stderr",
     "output_type": "stream",
     "text": [
      "2024-07-09 03:04:32,518 - INFO - Downloaded video 4: bombay traffic\n",
      "Downloading videos:  80%|████████  | 4/5 [00:37<00:07,  7.60s/it]"
     ]
    },
    {
     "name": "stdout",
     "output_type": "stream",
     "text": [
      "                                                         \r"
     ]
    },
    {
     "name": "stderr",
     "output_type": "stream",
     "text": [
      "2024-07-09 03:04:35,679 - INFO - Downloaded video 5: The Simple Solution to Traffic\n",
      "Downloading videos: 100%|██████████| 5/5 [00:40<00:00,  8.17s/it]\n",
      "2024-07-09 03:04:35,713 - INFO - Processing frames of video video_1...\n",
      "Processing video_1:   0%|          | 5/168231 [00:06<61:49:17,  1.32s/it]2024-07-09 03:04:43,030 - INFO - No detections in frame 6 of video video_1. Image not saved.\n",
      "Processing video_1:   0%|          | 6/168231 [00:07<53:32:32,  1.15s/it]2024-07-09 03:04:43,771 - INFO - No detections in frame 7 of video video_1. Image not saved.\n",
      "Processing video_1:   0%|          | 7/168231 [00:08<47:21:34,  1.01s/it]2024-07-09 03:04:44,568 - INFO - No detections in frame 8 of video video_1. Image not saved.\n",
      "Processing video_1:   0%|          | 8/168231 [00:08<44:09:01,  1.06it/s]2024-07-09 03:04:45,348 - INFO - No detections in frame 9 of video video_1. Image not saved.\n",
      "Processing video_1:   0%|          | 53/168231 [00:42<30:14:23,  1.54it/s]2024-07-09 03:05:18,441 - INFO - No detections in frame 54 of video video_1. Image not saved.\n",
      "Processing video_1:   0%|          | 64/168231 [00:49<31:15:51,  1.49it/s]2024-07-09 03:05:25,753 - INFO - No detections in frame 65 of video video_1. Image not saved.\n",
      "Processing video_1:   0%|          | 68/168231 [00:52<31:45:03,  1.47it/s]2024-07-09 03:05:28,471 - INFO - No detections in frame 69 of video video_1. Image not saved.\n",
      "Processing video_1:   0%|          | 69/168231 [00:52<31:37:23,  1.48it/s]2024-07-09 03:05:29,178 - INFO - No detections in frame 70 of video video_1. Image not saved.\n",
      "Processing video_1:   0%|          | 70/168231 [00:53<32:02:12,  1.46it/s]2024-07-09 03:05:30,388 - INFO - No detections in frame 71 of video video_1. Image not saved.\n",
      "Processing video_1:   0%|          | 78/168231 [01:00<45:46:44,  1.02it/s]"
     ]
    }
   ],
   "source": [
    "def main():\n",
    "    api_key = \"TXHvXfRbZfimcC9mjhFw\"\n",
    "    roboflow_model = RoboflowModel(api_key)\n",
    "    model = roboflow_model.initialize_model()\n",
    "\n",
    "    search_query = input(\"Enter a search string for YouTube videos: \")\n",
    "    video_downloader = VideoDownloader(search_query)\n",
    "    video_paths = video_downloader.download_videos()\n",
    "\n",
    "    frame_processor = FrameProcessor(model)\n",
    "    for video_path in video_paths:\n",
    "        frame_processor.process_video_frames(video_path)\n",
    "\n",
    "    logging.info(\"Processing completed.\")\n",
    "\n",
    "if __name__ == \"__main__\":\n",
    "    main()"
   ]
  },
  {
   "cell_type": "code",
   "execution_count": null,
   "id": "6181fa8d-4321-4b8c-895d-312937a0c3fc",
   "metadata": {},
   "outputs": [],
   "source": []
  },
  {
   "cell_type": "code",
   "execution_count": null,
   "id": "55ef945b-2d65-40a0-8ac5-c1f67c80cabb",
   "metadata": {},
   "outputs": [],
   "source": []
  }
 ],
 "metadata": {
  "kernelspec": {
   "display_name": "Python 3 (ipykernel)",
   "language": "python",
   "name": "python3"
  },
  "language_info": {
   "codemirror_mode": {
    "name": "ipython",
    "version": 3
   },
   "file_extension": ".py",
   "mimetype": "text/x-python",
   "name": "python",
   "nbconvert_exporter": "python",
   "pygments_lexer": "ipython3",
   "version": "3.12.4"
  }
 },
 "nbformat": 4,
 "nbformat_minor": 5
}
